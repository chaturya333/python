{
 "cells": [
  {
   "cell_type": "code",
   "execution_count": 3,
   "id": "b6a4a450",
   "metadata": {},
   "outputs": [
    {
     "name": "stdout",
     "output_type": "stream",
     "text": [
      "Hello\n",
      "World!\n",
      "World! Hello\n"
     ]
    }
   ],
   "source": [
    "#swapping \n",
    "x= input()\n",
    "y = input()\n",
    "temp = x\n",
    "x= y\n",
    "y = temp\n",
    "print(x+\" \"+y)"
   ]
  },
  {
   "cell_type": "code",
   "execution_count": 12,
   "id": "ea3d7994",
   "metadata": {},
   "outputs": [
    {
     "name": "stdout",
     "output_type": "stream",
     "text": [
      "[1 2 3 3 5 6 7 8 9]\n"
     ]
    }
   ],
   "source": [
    "#array flattening\n",
    "import numpy as np\n",
    "gp = np.array([[1,2,3],[3,5,6],[7,8,9]])\n",
    "fl = gp.flatten()\n",
    "print(fl)"
   ]
  },
  {
   "cell_type": "code",
   "execution_count": null,
   "id": "f1b49782",
   "metadata": {},
   "outputs": [],
   "source": [
    "SELECT e1.Name EmployeeName, ISNULL(e2.name, 'Top Manager') AS ManagerName\n",
    "FROM Employee e1\n",
    "LEFT JOIN Employee e2\n",
    "ON e1.ManagerID = e2.EmployeeID\n",
    "GO"
   ]
  },
  {
   "cell_type": "code",
   "execution_count": 3,
   "id": "6d541081",
   "metadata": {},
   "outputs": [
    {
     "name": "stdout",
     "output_type": "stream",
     "text": [
      "   id Name  id Name\n",
      "0   1    A   3   AA\n",
      "1   2    B   4   BA\n",
      "2   3    C   5   CA\n"
     ]
    }
   ],
   "source": [
    "import pandas as pd\n",
    "df1 =pd.DataFrame({'id':[1,2,3],'Name':['A','B','C']})\n",
    "df2 =pd.DataFrame({'id':[3,4,5],'Name':['AA','BA','CA']})\n",
    "res = pd.concat([df1,df2],axis=1,join='inner')\n",
    "print(res)"
   ]
  },
  {
   "cell_type": "code",
   "execution_count": null,
   "id": "09c6c4c9",
   "metadata": {},
   "outputs": [],
   "source": []
  }
 ],
 "metadata": {
  "kernelspec": {
   "display_name": "Python 3 (ipykernel)",
   "language": "python",
   "name": "python3"
  },
  "language_info": {
   "codemirror_mode": {
    "name": "ipython",
    "version": 3
   },
   "file_extension": ".py",
   "mimetype": "text/x-python",
   "name": "python",
   "nbconvert_exporter": "python",
   "pygments_lexer": "ipython3",
   "version": "3.10.2"
  }
 },
 "nbformat": 4,
 "nbformat_minor": 5
}
