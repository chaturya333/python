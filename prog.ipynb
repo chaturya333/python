{
 "cells": [
  {
   "cell_type": "code",
   "execution_count": 3,
   "id": "fef31e83",
   "metadata": {},
   "outputs": [
    {
     "name": "stdout",
     "output_type": "stream",
     "text": [
      "my name is  john my age is 22\n"
     ]
    }
   ],
   "source": [
    "def printme(name,age=22):\n",
    "    print(\"my name is \",name,\"my age is\",age)\n",
    "printme(\"john\")"
   ]
  },
  {
   "cell_type": "code",
   "execution_count": 2,
   "id": "2d250054",
   "metadata": {},
   "outputs": [
    {
     "name": "stdout",
     "output_type": "stream",
     "text": [
      "\n",
      "1\n",
      "22\n",
      "333\n",
      "4444\n"
     ]
    }
   ],
   "source": [
    "for i in range(0,5):\n",
    "    for j in range(i):\n",
    "        print(i, end='')\n",
    "    print()"
   ]
  },
  {
   "cell_type": "code",
   "execution_count": 6,
   "id": "2389eee8",
   "metadata": {},
   "outputs": [
    {
     "name": "stdout",
     "output_type": "stream",
     "text": [
      "456\n",
      "654\n"
     ]
    }
   ],
   "source": [
    "n = int(input())\n",
    "reverse= 0\n",
    "while n!=0:\n",
    " reverse= reverse*10+n%10\n",
    " n=(n//10)\n",
    "print(reverse)\n"
   ]
  },
  {
   "cell_type": "code",
   "execution_count": 12,
   "id": "32c51318",
   "metadata": {},
   "outputs": [
    {
     "name": "stdout",
     "output_type": "stream",
     "text": [
      "153\n",
      "armstrong\n"
     ]
    }
   ],
   "source": [
    "i= 0\n",
    "result= 0\n",
    "n = int(input())\n",
    "nu1= n\n",
    "temp = n\n",
    "while n!=0:\n",
    "    n=(n//10)\n",
    "    i= i+1\n",
    "while nu1!=0:\n",
    "    n= nu1%10\n",
    "    result= result+pow(n,i)\n",
    "    nu1=nu1//10\n",
    "if temp==result:\n",
    "    print(\"armstrong\")\n",
    "else:\n",
    "    print(\"not\")"
   ]
  },
  {
   "cell_type": "code",
   "execution_count": 28,
   "id": "425af318",
   "metadata": {},
   "outputs": [
    {
     "name": "stdout",
     "output_type": "stream",
     "text": [
      "3\n",
      "prime\n"
     ]
    }
   ],
   "source": [
    "i, temp=0,0\n",
    "n= int(input())\n",
    "for i in range(2,n//2):\n",
    "    if n%i ==0:\n",
    "        temp=1\n",
    "        break\n",
    "if temp==1:\n",
    "    print(\"not prime\")\n",
    "else:\n",
    "    print(\"prime\")\n",
    "    "
   ]
  },
  {
   "cell_type": "code",
   "execution_count": 31,
   "id": "9eb4c8b0",
   "metadata": {},
   "outputs": [
    {
     "name": "stdout",
     "output_type": "stream",
     "text": [
      "♥\n"
     ]
    }
   ],
   "source": [
    "unicode=(\"\\u2665\")\n",
    "print(unicode)"
   ]
  },
  {
   "cell_type": "code",
   "execution_count": 37,
   "id": "121939ef",
   "metadata": {},
   "outputs": [
    {
     "name": "stdout",
     "output_type": "stream",
     "text": [
      "\n",
      "\n",
      "*\n",
      "**\n",
      "***\n"
     ]
    }
   ],
   "source": [
    "for i in range(0,5):\n",
    "    for j in range(0,i-1):\n",
    "        print('*',end=\"\")\n",
    "    print()"
   ]
  },
  {
   "cell_type": "code",
   "execution_count": 41,
   "id": "4bf08675",
   "metadata": {},
   "outputs": [
    {
     "name": "stdout",
     "output_type": "stream",
     "text": [
      "['Apple']\n",
      "[True]\n"
     ]
    }
   ],
   "source": [
    "fruit= [\"Apple\"]\n",
    "fil = filter(lambda x:x[0]=='A',fruit)\n",
    "fil1 =map(lambda x:x[0]=='A',fruit)\n",
    "print(list(fil))\n",
    "print(list(fil1))"
   ]
  },
  {
   "cell_type": "code",
   "execution_count": 52,
   "id": "e9acfd18",
   "metadata": {},
   "outputs": [
    {
     "name": "stdout",
     "output_type": "stream",
     "text": [
      "[5, 4, 3, 2, 1]\n"
     ]
    }
   ],
   "source": [
    "def reverselist(lst):\n",
    "    if not lst:\n",
    "        return []\n",
    "    return [lst[-1]]+reverselist(lst[:-1])\n",
    "print(reverselist([1,2,3,4,5]))"
   ]
  },
  {
   "cell_type": "code",
   "execution_count": 53,
   "id": "f74b5cf3",
   "metadata": {},
   "outputs": [
    {
     "name": "stdout",
     "output_type": "stream",
     "text": [
      "0\n",
      "1\n",
      "1\n",
      "2\n",
      "3\n",
      "5\n",
      "8\n"
     ]
    }
   ],
   "source": [
    "def fib(n):\n",
    "    p,q = 0,1\n",
    "    while(p<n):\n",
    "        yield p\n",
    "        p, q = q, p+q\n",
    "x = fib(10)\n",
    "for i in fib(10):\n",
    "    print(i)"
   ]
  },
  {
   "cell_type": "code",
   "execution_count": 55,
   "id": "8a47865c",
   "metadata": {},
   "outputs": [
    {
     "name": "stdout",
     "output_type": "stream",
     "text": [
      "avaj\n"
     ]
    }
   ],
   "source": [
    "def rev1(str):\n",
    "    str1=''\n",
    "    for i in str:\n",
    "        str1= i+str1\n",
    "    return str1\n",
    "str =\"java\"\n",
    "print(rev1(str))\n",
    "    "
   ]
  },
  {
   "cell_type": "code",
   "execution_count": 56,
   "id": "a117a85b",
   "metadata": {},
   "outputs": [
    {
     "name": "stdout",
     "output_type": "stream",
     "text": [
      "3\n"
     ]
    }
   ],
   "source": [
    "lst = [1,2,3,4,4]\n",
    "ls1= set(lst)\n",
    "ls1.remove(max(ls1))\n",
    "print(max(ls1))"
   ]
  },
  {
   "cell_type": "code",
   "execution_count": 59,
   "id": "b565e99f",
   "metadata": {},
   "outputs": [
    {
     "name": "stdout",
     "output_type": "stream",
     "text": [
      "144\n"
     ]
    }
   ],
   "source": [
    "def fib(n):\n",
    "    if n<0:\n",
    "        print(\"no\")\n",
    "    elif n ==0:\n",
    "        return(0)\n",
    "    elif n==1:\n",
    "        return 1\n",
    "    else:\n",
    "        return(fib(n-1)+fib(n-2))\n",
    "print(fib(12))"
   ]
  },
  {
   "cell_type": "code",
   "execution_count": 64,
   "id": "331fd077",
   "metadata": {},
   "outputs": [],
   "source": [
    "def table(n):\n",
    "    for i in range(1,11):\n",
    "        yield n*i\n",
    "        i=i+1\n",
    "    for i in table(15):\n",
    "        print(i)"
   ]
  },
  {
   "cell_type": "code",
   "execution_count": 65,
   "id": "aa4c0667",
   "metadata": {},
   "outputs": [
    {
     "name": "stdout",
     "output_type": "stream",
     "text": [
      "[[1, 2], [4, 5], [6, 7]]\n"
     ]
    }
   ],
   "source": [
    "lst=[1,2,4,5,6,7]\n",
    "n=2\n",
    "out = [lst[i:i+n] for i in range(0,len(lst),n)]\n",
    "print(out)\n",
    "    "
   ]
  },
  {
   "cell_type": "code",
   "execution_count": 69,
   "id": "6659cf0b",
   "metadata": {},
   "outputs": [
    {
     "name": "stdout",
     "output_type": "stream",
     "text": [
      "[1,2,3]\n"
     ]
    },
    {
     "ename": "ValueError",
     "evalue": "invalid literal for int() with base 10: '[1,2,3]'",
     "output_type": "error",
     "traceback": [
      "\u001b[1;31m---------------------------------------------------------------------------\u001b[0m",
      "\u001b[1;31mValueError\u001b[0m                                Traceback (most recent call last)",
      "Input \u001b[1;32mIn [69]\u001b[0m, in \u001b[0;36m<module>\u001b[1;34m\u001b[0m\n\u001b[0;32m      5\u001b[0m     sample[size\u001b[38;5;241m-\u001b[39m\u001b[38;5;241m1\u001b[39m]\u001b[38;5;241m=\u001b[39m temp\n\u001b[0;32m      6\u001b[0m     \u001b[38;5;28;01mreturn\u001b[39;00m sample\n\u001b[1;32m----> 7\u001b[0m sample\u001b[38;5;241m=\u001b[39m\u001b[38;5;28;43mint\u001b[39;49m\u001b[43m(\u001b[49m\u001b[38;5;28;43minput\u001b[39;49m\u001b[43m(\u001b[49m\u001b[43m)\u001b[49m\u001b[43m)\u001b[49m\n\u001b[0;32m      8\u001b[0m \u001b[38;5;28mprint\u001b[39m(sample)\n",
      "\u001b[1;31mValueError\u001b[0m: invalid literal for int() with base 10: '[1,2,3]'"
     ]
    }
   ],
   "source": [
    "def swap(sample):\n",
    "    size=len(sample)\n",
    "    temp=sample[0]\n",
    "    sample[0]=sample[size-1]\n",
    "    sample[size-1]= temp\n",
    "    return sample\n",
    "sample=int(input())\n",
    "print(sample)"
   ]
  },
  {
   "cell_type": "code",
   "execution_count": 72,
   "id": "cb3d1dff",
   "metadata": {},
   "outputs": [
    {
     "data": {
      "text/plain": [
       "array([[1., 1., 1., 1.],\n",
       "       [1., 1., 1., 1.],\n",
       "       [1., 1., 1., 1.]])"
      ]
     },
     "execution_count": 72,
     "metadata": {},
     "output_type": "execute_result"
    }
   ],
   "source": [
    "import numpy as np\n",
    "np.ones((3,4))"
   ]
  },
  {
   "cell_type": "code",
   "execution_count": 86,
   "id": "67493eaa",
   "metadata": {},
   "outputs": [
    {
     "data": {
      "text/html": [
       "<div>\n",
       "<style scoped>\n",
       "    .dataframe tbody tr th:only-of-type {\n",
       "        vertical-align: middle;\n",
       "    }\n",
       "\n",
       "    .dataframe tbody tr th {\n",
       "        vertical-align: top;\n",
       "    }\n",
       "\n",
       "    .dataframe thead th {\n",
       "        text-align: right;\n",
       "    }\n",
       "</style>\n",
       "<table border=\"1\" class=\"dataframe\">\n",
       "  <thead>\n",
       "    <tr style=\"text-align: right;\">\n",
       "      <th></th>\n",
       "      <th>bangalore</th>\n",
       "      <th>delhi</th>\n",
       "      <th>blue</th>\n",
       "      <th>green</th>\n",
       "    </tr>\n",
       "  </thead>\n",
       "  <tbody>\n",
       "    <tr>\n",
       "      <th>0</th>\n",
       "      <td>green</td>\n",
       "      <td>red</td>\n",
       "      <td>NaN</td>\n",
       "      <td>NaN</td>\n",
       "    </tr>\n",
       "    <tr>\n",
       "      <th>0</th>\n",
       "      <td>NaN</td>\n",
       "      <td>NaN</td>\n",
       "      <td>hi</td>\n",
       "      <td>bye</td>\n",
       "    </tr>\n",
       "  </tbody>\n",
       "</table>\n",
       "</div>"
      ],
      "text/plain": [
       "  bangalore delhi blue green\n",
       "0     green   red  NaN   NaN\n",
       "0       NaN   NaN   hi   bye"
      ]
     },
     "execution_count": 86,
     "metadata": {},
     "output_type": "execute_result"
    }
   ],
   "source": [
    "import pandas as pd\n",
    "india ={'bangalore':['green'],'delhi':['red']}\n",
    "color={'blue':['hi'],'green':['bye']}\n",
    "df1= pd.DataFrame(india)\n",
    "df2=pd.DataFrame(color)\n",
    "df3=pd.concat([df1,df2],axis=0)\n",
    "df3"
   ]
  },
  {
   "cell_type": "code",
   "execution_count": 11,
   "id": "00aaedd3",
   "metadata": {},
   "outputs": [
    {
     "name": "stdout",
     "output_type": "stream",
     "text": [
      "151\n",
      "151\n"
     ]
    }
   ],
   "source": [
    "n= int(input())\n",
    "reverse = 0\n",
    "while n!= 0:\n",
    "    reverse = reverse*10+n%10\n",
    "    n = (n//10)\n",
    "print(reverse)"
   ]
  },
  {
   "cell_type": "code",
   "execution_count": null,
   "id": "12bb5273",
   "metadata": {},
   "outputs": [],
   "source": []
  }
 ],
 "metadata": {
  "kernelspec": {
   "display_name": "Python 3 (ipykernel)",
   "language": "python",
   "name": "python3"
  },
  "language_info": {
   "codemirror_mode": {
    "name": "ipython",
    "version": 3
   },
   "file_extension": ".py",
   "mimetype": "text/x-python",
   "name": "python",
   "nbconvert_exporter": "python",
   "pygments_lexer": "ipython3",
   "version": "3.10.2"
  }
 },
 "nbformat": 4,
 "nbformat_minor": 5
}
